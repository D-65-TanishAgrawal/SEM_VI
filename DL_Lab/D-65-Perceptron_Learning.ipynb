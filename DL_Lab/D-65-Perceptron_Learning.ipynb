{
 "cells": [
  {
   "cell_type": "markdown",
   "id": "b24d0035",
   "metadata": {},
   "source": [
    "# 1(a)"
   ]
  },
  {
   "cell_type": "code",
   "execution_count": 99,
   "id": "3512270e",
   "metadata": {},
   "outputs": [],
   "source": [
    "def nurn(input1,target,w,c,var1,epoch,e_total):\n",
    "    while(var1==True):\n",
    "        w_chng=0\n",
    "        #print(\"Input_size:\" + str(input1.size))\n",
    "        var=int((input1.size)/3)\n",
    "        for i in range(var):\n",
    "            net=np.dot(w,input1[i])\n",
    "            y=net\n",
    "            if(y>0):\n",
    "                y=1\n",
    "            else:\n",
    "                y=-1\n",
    "            if(y==target[i]):\n",
    "                e_total = 0\n",
    "                \n",
    "            else:\n",
    "                temp=c*(target[i]-y)\n",
    "                wchng=temp*input1[i]\n",
    "                error=0.5*((target[i]-y)*(target[i]-y))\n",
    "                e_total=e_total+error\n",
    "                w=w+w_chng\n",
    "        if(e_total==0):\n",
    "                var1=False\n",
    "        if(epoch>100):\n",
    "            var1=False\n",
    "            print(\"The problem is lineraly not separable\")\n",
    "        epoch=epoch+1\n",
    "        e_total=0\n",
    "    return w"
   ]
  },
  {
   "cell_type": "code",
   "execution_count": 100,
   "id": "e3bc1d93",
   "metadata": {},
   "outputs": [
    {
     "name": "stdout",
     "output_type": "stream",
     "text": [
      "Final Weights:[0.2 0.5 0.3]\n"
     ]
    }
   ],
   "source": [
    "import numpy as np\n",
    "input1=np.array([(-1,-1,1),(-1,1,1),(1,-1,1),(1,1,1)])\n",
    "target=np.array([(-1),(-1),(-1),(1)])\n",
    "w=np.array([(0.2),(0.5),(0.3)])\n",
    "c=0.1\n",
    "e_total=0;\n",
    "var1=True\n",
    "epoch=0\n",
    "weights=nurn(input1,target,w,c,var1,epoch,e_total)\n",
    "print(\"Final Weights:\"+str(weights))"
   ]
  },
  {
   "cell_type": "markdown",
   "id": "64fd49a7",
   "metadata": {},
   "source": [
    "# 1(b)"
   ]
  }
 ],
 "metadata": {
  "kernelspec": {
   "display_name": "Python 3 (ipykernel)",
   "language": "python",
   "name": "python3"
  },
  "language_info": {
   "codemirror_mode": {
    "name": "ipython",
    "version": 3
   },
   "file_extension": ".py",
   "mimetype": "text/x-python",
   "name": "python",
   "nbconvert_exporter": "python",
   "pygments_lexer": "ipython3",
   "version": "3.9.7"
  }
 },
 "nbformat": 4,
 "nbformat_minor": 5
}
